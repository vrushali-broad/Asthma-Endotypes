{
 "cells": [
  {
   "cell_type": "code",
   "execution_count": 12,
   "metadata": {},
   "outputs": [],
   "source": [
    "rm(list=ls())\n",
    "library(\"Biobase\")\n",
    "library(limma)"
   ]
  },
  {
   "cell_type": "code",
   "execution_count": 13,
   "metadata": {},
   "outputs": [
    {
     "data": {
      "text/html": [
       "TRUE"
      ],
      "text/latex": [
       "TRUE"
      ],
      "text/markdown": [
       "TRUE"
      ],
      "text/plain": [
       "[1] TRUE"
      ]
     },
     "metadata": {},
     "output_type": "display_data"
    }
   ],
   "source": [
    "## Load expression data\n",
    "exprs <- read.table(\"transcriptomics.tsv\",sep=\"\\t\",header=TRUE,stringsAsFactors=F,row.names=1,as.is=TRUE,check.names=FALSE)\n",
    "\n",
    "## select genes of interest\n",
    "goi = c('ANPEP','ARG1','ARG2','CCR1','CCR2','CCR3','CCR4','CCR6','CCR7','CCR8','CCR9','CCR10','CCRK','CCRL1','CCRL2','CCRN4L','CD4','CD8A','CD8B','CD19','CD22','CD33','CD44','CD81','CDH1','CEBPA','CLC','CR1','CSF1','CSF1R','CSF2','CSF2RB','CSF3','CSF3R','CXCL1','CXCL2','CXCL3','CXCL5','CXCL6','CXCL9','CXCL10','CXCL11','CXCL12','CXCL13','CXCL14','CXCL16','CXCL17','CXCR1','CXCR3','CXCR4','CXCR5','CXCR6','CXCR7','CYSLTR1','CYSLTR2','EBF1','EMR1','ENPP3','EPCAM','EPX','FCER1A','FCER1G','FCER2','FCGR3A','FCGR3B','FOXP3','FUT4','GATA1','GATA2','GATA3','GPR44','GZMA','GZMB','GZMH','GZMK','GZMM','HRH1','HRH2','HRH3','HRH4','IFNAR1','IFNAR2','IFNG','IFNGR1','IFNGR2','IKZF1','IL1A','IL1B','IL1F5','IL1F6','IL1F7','IL1F8','IL1F9','IL1F10','IL1R1','IL1R2','IL1RAP','IL1RAPL1','IL1RAPL2','IL1RL1','IL1RL2','IL1RN','IL2','IL2RA','IL2RB','IL2RG','IL3','IL3RA','IL4','IL4I1','IL4R','IL5','IL5RA','IL6','IL6R','IL6ST','IL7','IL7R','IL8','IL8RB','IL8RBP','IL9','IL9R','IL10','IL10RA','IL10RB','IL11','IL11RA','IL12A','IL12B','IL12RB1','IL12RB2','IL13','IL13RA1','IL13RA2','IL15','IL15RA','IL16','IL17A','IL17B','IL17C','IL17D','IL17F','IL17RA','IL17RB','IL17RC','IL17RD','IL17RE','IL17REL','IL18','IL18BP','IL18R1','IL18RAP','IL19','IL20','IL20RA','IL20RB','IL21','IL21R','IL22','IL22RA1','IL22RA2','IL23A','IL23R','IL24','IL25','IL26','IL27','IL27RA','IL28A','IL28B','IL28RA','IL29','IL31','IL31RA','IL32','IL33','IL34','IRF2','IRF3','IRF5','IRF8','ITGA2','ITGAM','KARS','KIT','LAMP1','LAMP3','LTA','LY6G6D','PAX5','PI4K2A','PRG2','RNASE2','RNASE3','RORA','RORC','RUNX1','RUNX1T1','RUNX2','RUNX3','SIGLEC8','STAT1','STAT2','STAT3','STAT4','STAT5A','STAT5B','STAT6','TBX21','TCF3','TFE3','TGFA','TGFB1','TGFB1I1','TGFB2','TGFB3','TGFBI','TGFBR1','TGFBR2','TGFBR3','TGFBRAP1','TNF')\n",
    "exprs <- exprs[goi,]\n",
    "exprs <- data.matrix(exprs)\n",
    "\n",
    "\n",
    "## Load meta data\n",
    "pData <- read.table(\"neu_meta.tsv\",sep=\"\\t\",header=TRUE,stringsAsFactors=F,row.names=1,as.is=TRUE,check.names=FALSE)\n",
    "intersec = intersect(row.names(pData),colnames(exprs))\n",
    "exprs <- exprs[,intersec]\n",
    "pData<-pData[intersec,]\n",
    "\n",
    "phenoData <- new(\"AnnotatedDataFrame\",data=pData)\n",
    "all(rownames(pData)==colnames(exprs))\n",
    "\n",
    "minimalSet <- ExpressionSet(assayData=exprs, phenoData=phenoData)\n",
    "age <- phenoData$age\n",
    "gender <- phenoData$gender\n",
    "tmp <- phenoData$neu\n"
   ]
  },
  {
   "cell_type": "code",
   "execution_count": 3,
   "metadata": {},
   "outputs": [
    {
     "data": {
      "text/plain": [
       "       (Intercept) groupsGrp_asthma genderM age\n",
       "Down             0               81       1   0\n",
       "NotSig           0              120     220 223\n",
       "Up             223               22       2   0"
      ]
     },
     "metadata": {},
     "output_type": "display_data"
    },
    {
     "data": {
      "text/html": [
       "<style>\n",
       ".list-inline {list-style: none; margin:0; padding: 0}\n",
       ".list-inline>li {display: inline-block}\n",
       ".list-inline>li:not(:last-child)::after {content: \"\\00b7\"; padding: 0 .5ex}\n",
       "</style>\n",
       "<ol class=list-inline><li>'(Intercept)'</li><li>'groupsGrp_asthma'</li><li>'genderM'</li><li>'age'</li></ol>\n"
      ],
      "text/latex": [
       "\\begin{enumerate*}\n",
       "\\item '(Intercept)'\n",
       "\\item 'groupsGrp\\_asthma'\n",
       "\\item 'genderM'\n",
       "\\item 'age'\n",
       "\\end{enumerate*}\n"
      ],
      "text/markdown": [
       "1. '(Intercept)'\n",
       "2. 'groupsGrp_asthma'\n",
       "3. 'genderM'\n",
       "4. 'age'\n",
       "\n",
       "\n"
      ],
      "text/plain": [
       "[1] \"(Intercept)\"      \"groupsGrp_asthma\" \"genderM\"          \"age\"             "
      ]
     },
     "metadata": {},
     "output_type": "display_data"
    }
   ],
   "source": [
    "grp_num <- 'Cluster 1' ## Change this per group\n",
    "\n",
    "tmp[tmp==grp_num] <- 'Grp_asthma'\n",
    "tmp[!tmp=='Grp_asthma'] <- 'Control'\n",
    "groups <- tmp\n",
    "\n",
    "## Declare design matrix\n",
    "design <- model.matrix(~1+groups+gender+age)\n",
    "\n",
    "## Fit model to data\n",
    "fit <- lmFit(minimalSet, design)\n",
    "fit <- eBayes(fit)\n",
    "\n",
    "dt <- decideTests(fit)\n",
    "summary(dt)\n",
    "colnames(fit)\n",
    "\n",
    "res <-topTable(fit, coef='groupsGrp_asthma', number=Inf, sort.by='p')\n",
    "\n",
    "## Use this for Cluster 1\n",
    "tmp1 <- head(res, summary(dt)['Up','groupsGrp_asthma']+summary(dt)['Down','groupsGrp_asthma']) # 91)\n",
    "fcvals_up <- tmp1[tmp1['logFC']>=0,]\n",
    "order1 <- fcvals_up[order(-fcvals_up$logFC),]\n",
    "write.table(fcvals_up, file=\"DE_Cluster1.txt\", row.names = TRUE, col.names = TRUE, sep=\"\\t\")\n"
   ]
  },
  {
   "cell_type": "code",
   "execution_count": 4,
   "metadata": {},
   "outputs": [],
   "source": [
    "#intersect ( rownames(subset( tmp1, logFC > 0)), goi)"
   ]
  },
  {
   "cell_type": "code",
   "execution_count": 11,
   "metadata": {},
   "outputs": [
    {
     "data": {
      "text/plain": [
       "       (Intercept) groupsGrp_asthma genderM age\n",
       "Down             0               37       0   0\n",
       "NotSig           0              155     220 223\n",
       "Up             223               31       3   0"
      ]
     },
     "metadata": {},
     "output_type": "display_data"
    },
    {
     "data": {
      "text/html": [
       "<style>\n",
       ".list-inline {list-style: none; margin:0; padding: 0}\n",
       ".list-inline>li {display: inline-block}\n",
       ".list-inline>li:not(:last-child)::after {content: \"\\00b7\"; padding: 0 .5ex}\n",
       "</style>\n",
       "<ol class=list-inline><li>'(Intercept)'</li><li>'groupsGrp_asthma'</li><li>'genderM'</li><li>'age'</li></ol>\n"
      ],
      "text/latex": [
       "\\begin{enumerate*}\n",
       "\\item '(Intercept)'\n",
       "\\item 'groupsGrp\\_asthma'\n",
       "\\item 'genderM'\n",
       "\\item 'age'\n",
       "\\end{enumerate*}\n"
      ],
      "text/markdown": [
       "1. '(Intercept)'\n",
       "2. 'groupsGrp_asthma'\n",
       "3. 'genderM'\n",
       "4. 'age'\n",
       "\n",
       "\n"
      ],
      "text/plain": [
       "[1] \"(Intercept)\"      \"groupsGrp_asthma\" \"genderM\"          \"age\"             "
      ]
     },
     "metadata": {},
     "output_type": "display_data"
    }
   ],
   "source": [
    "grp_num <- 'Cluster 2' ## Change this per group\n",
    "\n",
    "tmp[tmp==grp_num] <- 'Grp_asthma'\n",
    "tmp[!tmp=='Grp_asthma'] <- 'Control'\n",
    "groups <- tmp\n",
    "\n",
    "## Declare design matrix\n",
    "design <- model.matrix(~1+groups+gender+age)\n",
    "\n",
    "## Fit model to data\n",
    "fit <- lmFit(minimalSet, design)\n",
    "fit <- eBayes(fit)\n",
    "\n",
    "dt <- decideTests(fit)\n",
    "summary(dt)\n",
    "colnames(fit)\n",
    "\n",
    "res <-topTable(fit, coef='groupsGrp_asthma', number=Inf, sort.by='p')\n",
    "\n",
    "## Use this for Cluster 2\n",
    "tmp2 <- head(res, summary(dt)['Up','groupsGrp_asthma']+summary(dt)['Down','groupsGrp_asthma']) #62)\n",
    "fcvals_up <- tmp2[tmp2['logFC']>=0,]\n",
    "write.table(fcvals_up, file=\"DE_Cluster2.txt\", row.names = TRUE, col.names = TRUE, sep=\"\\t\")\n"
   ]
  },
  {
   "cell_type": "code",
   "execution_count": 6,
   "metadata": {},
   "outputs": [],
   "source": [
    "#intersect ( rownames(subset( tmp2, logFC > 0)), goi)\n"
   ]
  },
  {
   "cell_type": "code",
   "execution_count": 14,
   "metadata": {},
   "outputs": [
    {
     "data": {
      "text/plain": [
       "       (Intercept) groupsGrp_asthma genderM age\n",
       "Down             0               28       2   0\n",
       "NotSig           0              110     218 223\n",
       "Up             223               85       3   0"
      ]
     },
     "metadata": {},
     "output_type": "display_data"
    },
    {
     "data": {
      "text/html": [
       "<style>\n",
       ".list-inline {list-style: none; margin:0; padding: 0}\n",
       ".list-inline>li {display: inline-block}\n",
       ".list-inline>li:not(:last-child)::after {content: \"\\00b7\"; padding: 0 .5ex}\n",
       "</style>\n",
       "<ol class=list-inline><li>'(Intercept)'</li><li>'groupsGrp_asthma'</li><li>'genderM'</li><li>'age'</li></ol>\n"
      ],
      "text/latex": [
       "\\begin{enumerate*}\n",
       "\\item '(Intercept)'\n",
       "\\item 'groupsGrp\\_asthma'\n",
       "\\item 'genderM'\n",
       "\\item 'age'\n",
       "\\end{enumerate*}\n"
      ],
      "text/markdown": [
       "1. '(Intercept)'\n",
       "2. 'groupsGrp_asthma'\n",
       "3. 'genderM'\n",
       "4. 'age'\n",
       "\n",
       "\n"
      ],
      "text/plain": [
       "[1] \"(Intercept)\"      \"groupsGrp_asthma\" \"genderM\"          \"age\"             "
      ]
     },
     "metadata": {},
     "output_type": "display_data"
    }
   ],
   "source": [
    "tmp <- phenoData$neu\n",
    "grp_num <- 'Cluster 3' ## Change this per group\n",
    "\n",
    "tmp[tmp==grp_num] <- 'Grp_asthma'\n",
    "tmp[!tmp=='Grp_asthma'] <- 'Control'\n",
    "groups <- tmp\n",
    "\n",
    "## Declare design matrix\n",
    "design <- model.matrix(~1+groups+gender+age)\n",
    "\n",
    "## Fit model to data\n",
    "fit <- lmFit(minimalSet, design)\n",
    "fit <- eBayes(fit)\n",
    "\n",
    "dt <- decideTests(fit)\n",
    "summary(dt)\n",
    "colnames(fit)\n",
    "\n",
    "res <-topTable(fit, coef='groupsGrp_asthma', number=Inf, sort.by='p')\n",
    "\n",
    "## Use this for Cluster 3\n",
    "tmp3 <- head(res, summary(dt)['Up','groupsGrp_asthma']+summary(dt)['Down','groupsGrp_asthma']) #100)\n",
    "fcvals_up <- tmp3[tmp3['logFC']>=0,]\n",
    "write.table(fcvals_up, file=\"DE_Cluster3.txt\", row.names = TRUE, col.names = TRUE, sep=\"\\t\")\n"
   ]
  },
  {
   "cell_type": "code",
   "execution_count": 8,
   "metadata": {},
   "outputs": [],
   "source": [
    "#intersect ( rownames(subset( tmp3, logFC > 0)), goi)\n"
   ]
  },
  {
   "cell_type": "code",
   "execution_count": null,
   "metadata": {},
   "outputs": [],
   "source": []
  }
 ],
 "metadata": {
  "kernelspec": {
   "display_name": "R",
   "language": "R",
   "name": "ir"
  },
  "language_info": {
   "codemirror_mode": "r",
   "file_extension": ".r",
   "mimetype": "text/x-r-source",
   "name": "R",
   "pygments_lexer": "r",
   "version": "4.1.2"
  }
 },
 "nbformat": 4,
 "nbformat_minor": 4
}
